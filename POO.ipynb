{
  "nbformat": 4,
  "nbformat_minor": 0,
  "metadata": {
    "colab": {
      "provenance": [],
      "authorship_tag": "ABX9TyMo96fePuWTV76UxQ42exhs",
      "include_colab_link": true
    },
    "kernelspec": {
      "name": "python3",
      "display_name": "Python 3"
    },
    "language_info": {
      "name": "python"
    }
  },
  "cells": [
    {
      "cell_type": "markdown",
      "metadata": {
        "id": "view-in-github",
        "colab_type": "text"
      },
      "source": [
        "<a href=\"https://colab.research.google.com/github/alexsuzart/Suzart1/blob/main/POO.ipynb\" target=\"_parent\"><img src=\"https://colab.research.google.com/assets/colab-badge.svg\" alt=\"Open In Colab\"/></a>"
      ]
    },
    {
      "cell_type": "code",
      "source": [
        "class Jogador:\n",
        "  def jogar(self):\n",
        "    print(\"Estou jogando\")\n",
        "\n",
        "\n",
        "\n",
        "j1 = Jogador()\n",
        "j1.jogar()"
      ],
      "metadata": {
        "colab": {
          "base_uri": "https://localhost:8080/"
        },
        "id": "Opt6GzAvO70Q",
        "outputId": "65a41ae6-d618-4293-a6bd-5c84f7895cba"
      },
      "execution_count": null,
      "outputs": [
        {
          "output_type": "stream",
          "name": "stdout",
          "text": [
            "Estou jogando\n"
          ]
        }
      ]
    },
    {
      "cell_type": "code",
      "source": [
        "class Pessoa:\n",
        "  def __init__(self, nome, idade):\n",
        "    self.nome=nome\n",
        "    self.idade=idade\n",
        "\n",
        "\n",
        "  def falar_nome(self):\n",
        "    print(f'Olá, {self.nome}, Seja bem vindo!')\n",
        "\n",
        "\n",
        "  def falar_idade(self):\n",
        "    print(f'Você tem {self.idade} anos, que legal')\n",
        "\n",
        "\n",
        "p1 = Pessoa(input(\"Digite seu nome\\n\"), input(\"Digite sua idade\\n\"))\n",
        "p1.falar_nome()\n",
        "p1.falar_idade()"
      ],
      "metadata": {
        "colab": {
          "base_uri": "https://localhost:8080/"
        },
        "id": "cncNwIq1Qw_w",
        "outputId": "f247e4a0-f147-4bdb-d192-43d483b7d8f7"
      },
      "execution_count": null,
      "outputs": [
        {
          "output_type": "stream",
          "name": "stdout",
          "text": [
            "Digite seu nome\n",
            "Alex\n",
            "Digite sua idade\n",
            "22\n",
            "Olá, Alex, Seja bem vindo!\n",
            "Você tem 22, que legal\n"
          ]
        }
      ]
    },
    {
      "cell_type": "code",
      "source": [
        "class Funcionário(Pessoa):\n",
        "  cadastro = 0\n",
        "  def __init__(self, nome, idade):\n",
        "    super().__init__(nome,idade)\n",
        "    Funcionário.cadastro+=1\n",
        "    self.cadastro=0 + Funcionário.cadastro\n",
        "\n",
        "  def exbir_cadastro(self):\n",
        "    super().falar_nome\n",
        "    print(f\"Seu cadastro é {self.cadastro}\")\n",
        "\n",
        "f1 = Funcionário(input(\"Digite seu nome\\n\"), input(\"Digite sua idade\\n\"))\n",
        "f1.falar_nome()\n",
        "f1.falar_idade()\n",
        "f1.exbir_cadastro()"
      ],
      "metadata": {
        "colab": {
          "base_uri": "https://localhost:8080/"
        },
        "id": "5dcRO3G5UWl1",
        "outputId": "8b040697-c24e-46d9-af37-1380008be122"
      },
      "execution_count": null,
      "outputs": [
        {
          "output_type": "stream",
          "name": "stdout",
          "text": [
            "Digite seu nome\n",
            "Ana\n",
            "Digite sua idade\n",
            "19\n",
            "Olá, Ana, Seja bem vindo!\n",
            "Você tem 19, que legal\n",
            "Seu cadastro é 1\n"
          ]
        }
      ]
    }
  ]
}